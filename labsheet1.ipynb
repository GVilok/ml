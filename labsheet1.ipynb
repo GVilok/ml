{
  "nbformat": 4,
  "nbformat_minor": 0,
  "metadata": {
    "colab": {
      "provenance": [],
      "authorship_tag": "ABX9TyMr6BJYjJP/6KZDOUuWP4dq",
      "include_colab_link": true
    },
    "kernelspec": {
      "name": "python3",
      "display_name": "Python 3"
    },
    "language_info": {
      "name": "python"
    }
  },
  "cells": [
    {
      "cell_type": "markdown",
      "metadata": {
        "id": "view-in-github",
        "colab_type": "text"
      },
      "source": [
        "<a href=\"https://colab.research.google.com/github/GVilok/ml/blob/main/labsheet1.ipynb\" target=\"_parent\"><img src=\"https://colab.research.google.com/assets/colab-badge.svg\" alt=\"Open In Colab\"/></a>"
      ]
    },
    {
      "cell_type": "markdown",
      "source": [
        "A1."
      ],
      "metadata": {
        "id": "gn6sjD5gGz89"
      }
    },
    {
      "cell_type": "code",
      "execution_count": 2,
      "metadata": {
        "colab": {
          "base_uri": "https://localhost:8080/"
        },
        "id": "s2xVgFTUF6iB",
        "outputId": "a42c3a23-4d75-4b25-9d87-3ac5eaca8bec"
      },
      "outputs": [
        {
          "output_type": "stream",
          "name": "stdout",
          "text": [
            "2\n"
          ]
        }
      ],
      "source": [
        "count = 0\n",
        "\n",
        "List = [2,7,4,1,3,6]\n",
        "\n",
        "n = len(List)\n",
        "\n",
        "\n",
        "for i in range(n):\n",
        "\n",
        "  for j in range(i-1):\n",
        "\n",
        "    x  = List[j]+List[i]\n",
        "\n",
        "    if x == 10 :\n",
        "\n",
        "     count = count+1\n",
        "\n",
        "print(count)"
      ]
    },
    {
      "cell_type": "markdown",
      "source": [
        "A2."
      ],
      "metadata": {
        "id": "8rZZn3sWH0Wr"
      }
    },
    {
      "cell_type": "code",
      "source": [
        "def bubblesort(arr):\n",
        "\n",
        " for n in range(len(arr) - 1, 0, -1):\n",
        "\n",
        "  for i in range(n):\n",
        "\n",
        "   if arr[i] > arr[i + 1]:\n",
        "\n",
        "     arr[i], arr[i + 1] = arr[i + 1], arr[i]\n",
        "\n",
        "\n",
        " return arr\n",
        "\n",
        "a = []\n",
        "\n",
        "n = int(input(\"Enter the number of elements: \"))\n",
        "\n",
        "if n < 3:\n",
        "\n",
        "   print(\"range determiantion is not possible\")\n",
        "\n",
        "else:\n",
        "\n",
        "   for i in range(n):\n",
        "\n",
        "      element = int(input(f\"Enter element {i + 1}: \"))\n",
        "\n",
        "      a.append(element)\n",
        "\n",
        "a = bubblesort(a)\n",
        "\n",
        "print(a)\n",
        "\n",
        "print(f\"range({a[0]}-{a[n-1]})\")"
      ],
      "metadata": {
        "colab": {
          "base_uri": "https://localhost:8080/"
        },
        "id": "QfoC-4afHxxc",
        "outputId": "68465742-c2b5-403d-912b-b3465dc8e397"
      },
      "execution_count": 5,
      "outputs": [
        {
          "output_type": "stream",
          "name": "stdout",
          "text": [
            "Enter the number of elements: 5\n",
            "Enter element 1: 1\n",
            "Enter element 2: 2\n",
            "Enter element 3: 3\n",
            "Enter element 4: 4\n",
            "Enter element 5: 5\n",
            "[1, 2, 3, 4, 5]\n",
            "range(1-5)\n"
          ]
        }
      ]
    },
    {
      "cell_type": "markdown",
      "source": [
        "A3.\n"
      ],
      "metadata": {
        "id": "a2imHua7IiYN"
      }
    },
    {
      "cell_type": "code",
      "source": [
        "def Matrix_Mul(Mat, m):\n",
        "\n",
        " def multiply_matrices(M1, M2):\n",
        "\n",
        "  size = len(M1)\n",
        "\n",
        "  result = [[0] * size for _ in range(size)]\n",
        "\n",
        "  for i in range(size):\n",
        "\n",
        "    for j in range(size):\n",
        "\n",
        "      for k in range(size):\n",
        "\n",
        "        result[i][j] += M1[i][k] * M2[k][j]\n",
        "\n",
        "  return result\n",
        "\n",
        " if m == 1:\n",
        "     return Mat\n",
        "\n",
        " return multiply_matrices(Mat, Matrix_Mul(Mat, m - 1))\n",
        "\n",
        "Mat = [[1, 2, 3], [2, 4, 5], [4, 7, 9]]\n",
        "\n",
        "m = 3\n",
        "\n",
        "result = Matrix_Mul(Mat, m)\n",
        "\n",
        "print(f\"Original Matrix:{Mat}\")\n",
        "\n",
        "print(f\"\\nMatrix raised to power {m}: {result}\")"
      ],
      "metadata": {
        "colab": {
          "base_uri": "https://localhost:8080/"
        },
        "id": "W-nccWJ-IkED",
        "outputId": "8acfb6e4-7b1c-4158-859a-ffbbcebbe451"
      },
      "execution_count": 6,
      "outputs": [
        {
          "output_type": "stream",
          "name": "stdout",
          "text": [
            "Original Matrix:[[1, 2, 3], [2, 4, 5], [4, 7, 9]]\n",
            "\n",
            "Matrix raised to power 3: [[239, 438, 566], [424, 777, 1004], [764, 1400, 1809]]\n"
          ]
        }
      ]
    },
    {
      "cell_type": "markdown",
      "source": [
        "A4.\n"
      ],
      "metadata": {
        "id": "bFElnah8JFPm"
      }
    },
    {
      "cell_type": "code",
      "source": [
        "def Main(S):\n",
        "\n",
        "\n",
        "  dic ={}\n",
        "\n",
        "\n",
        "  for i in range(len(S)):\n",
        "\n",
        "    if S[i] in dic:\n",
        "\n",
        "      dic[S[i]] += 1\n",
        "\n",
        "    else:\n",
        "\n",
        "      dic[S[i]] = 1\n",
        "\n",
        "\n",
        "  return dic\n",
        "\n",
        "\n",
        "D = Main(\"hippopotamus\")\n",
        "\n",
        "\n",
        "X = max(D, key = D.get)\n",
        "\n",
        "\n",
        "print(f\"{X} with accurance value of {D[X]}\")"
      ],
      "metadata": {
        "colab": {
          "base_uri": "https://localhost:8080/"
        },
        "id": "yK-rfR3lJHhp",
        "outputId": "ba0adfbd-15a6-47ed-9cab-b538794984f7"
      },
      "execution_count": 9,
      "outputs": [
        {
          "output_type": "stream",
          "name": "stdout",
          "text": [
            "p with accurance value of 3\n"
          ]
        }
      ]
    }
  ]
}